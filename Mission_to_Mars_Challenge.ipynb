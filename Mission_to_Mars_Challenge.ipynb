{
 "cells": [
  {
   "cell_type": "code",
   "execution_count": 1,
   "metadata": {},
   "outputs": [],
   "source": [
    "# Import Splinter, BeautifulSoup, and Pandas\n",
    "from splinter import Browser\n",
    "from bs4 import BeautifulSoup as soup\n",
    "import pandas as pd"
   ]
  },
  {
   "cell_type": "code",
   "execution_count": 2,
   "metadata": {},
   "outputs": [],
   "source": [
    "# Set the executable path and initialize the chrome browser in splinter\n",
    "chromedriver_path = '../chromedriver_win32/chromedriver.exe'\n",
    "executable_path = {'executable_path': chromedriver_path}\n",
    "browser = Browser('chrome', **executable_path)"
   ]
  },
  {
   "cell_type": "markdown",
   "metadata": {},
   "source": [
    "### Visit the NASA Mars News Site"
   ]
  },
  {
   "cell_type": "code",
   "execution_count": 3,
   "metadata": {},
   "outputs": [
    {
     "data": {
      "text/plain": [
       "True"
      ]
     },
     "execution_count": 3,
     "metadata": {},
     "output_type": "execute_result"
    }
   ],
   "source": [
    "# Visit the mars nasa news site\n",
    "url = 'https://mars.nasa.gov/news/'\n",
    "browser.visit(url)\n",
    "\n",
    "# Optional delay for loading the page\n",
    "browser.is_element_present_by_css('ul.item_list li.slide', wait_time=1)"
   ]
  },
  {
   "cell_type": "code",
   "execution_count": 4,
   "metadata": {},
   "outputs": [],
   "source": [
    "# Convert the browser html to a soup object and then quit the browser\n",
    "html = browser.html\n",
    "news_soup = soup(html, 'html.parser')\n",
    "\n",
    "slide_elem = news_soup.select_one('ul.item_list li.slide') #slide_elem is the parent element"
   ]
  },
  {
   "cell_type": "code",
   "execution_count": 5,
   "metadata": {},
   "outputs": [
    {
     "data": {
      "text/plain": [
       "<div class=\"content_title\"><a href=\"/news/8867/nasas-mars-helicopter-reports-in/\" target=\"_self\">NASA's Mars Helicopter Reports In </a></div>"
      ]
     },
     "execution_count": 5,
     "metadata": {},
     "output_type": "execute_result"
    }
   ],
   "source": [
    "slide_elem.find('div', class_='content_title')"
   ]
  },
  {
   "cell_type": "code",
   "execution_count": 6,
   "metadata": {},
   "outputs": [
    {
     "data": {
      "text/plain": [
       "\"NASA's Mars Helicopter Reports In \""
      ]
     },
     "execution_count": 6,
     "metadata": {},
     "output_type": "execute_result"
    }
   ],
   "source": [
    "# Use the parent element to find the first a tag and save it as `news_title`\n",
    "news_title = slide_elem.find('div', class_='content_title').get_text()\n",
    "news_title"
   ]
  },
  {
   "cell_type": "code",
   "execution_count": 7,
   "metadata": {},
   "outputs": [
    {
     "data": {
      "text/plain": [
       "'The technology demonstration has phoned home from where it is attached to the belly of NASA’s Perseverance rover. '"
      ]
     },
     "execution_count": 7,
     "metadata": {},
     "output_type": "execute_result"
    }
   ],
   "source": [
    "# Use the parent element to find the paragraph text\n",
    "news_p = slide_elem.find('div', class_='article_teaser_body').get_text()\n",
    "news_p"
   ]
  },
  {
   "cell_type": "markdown",
   "metadata": {},
   "source": [
    "### JPL Space Images Featured Image"
   ]
  },
  {
   "cell_type": "code",
   "execution_count": 8,
   "metadata": {},
   "outputs": [],
   "source": [
    "# Visit URL\n",
    "url = 'https://data-class-jpl-space.s3.amazonaws.com/JPL_Space/index.html'\n",
    "browser.visit(url)"
   ]
  },
  {
   "cell_type": "code",
   "execution_count": 9,
   "metadata": {},
   "outputs": [],
   "source": [
    "# Find and click the full image button\n",
    "full_image_elem = browser.find_by_tag('button')[1]\n",
    "full_image_elem.click()"
   ]
  },
  {
   "cell_type": "code",
   "execution_count": 10,
   "metadata": {},
   "outputs": [],
   "source": [
    "# Parse the resulting html with soup\n",
    "html = browser.html\n",
    "img_soup = soup(html, 'html.parser')"
   ]
  },
  {
   "cell_type": "code",
   "execution_count": 11,
   "metadata": {},
   "outputs": [
    {
     "data": {
      "text/plain": [
       "'image/featured/mars2.jpg'"
      ]
     },
     "execution_count": 11,
     "metadata": {},
     "output_type": "execute_result"
    }
   ],
   "source": [
    "# Find the relative image url\n",
    "img_url_rel = img_soup.find('img', class_='fancybox-image').get('src')\n",
    "img_url_rel"
   ]
  },
  {
   "cell_type": "code",
   "execution_count": 12,
   "metadata": {},
   "outputs": [
    {
     "data": {
      "text/plain": [
       "'https://data-class-jpl-space.s3.amazonaws.com/JPL_Space/image/featured/mars2.jpg'"
      ]
     },
     "execution_count": 12,
     "metadata": {},
     "output_type": "execute_result"
    }
   ],
   "source": [
    "# Use the base URL to create an absolute URL\n",
    "img_url = f'https://data-class-jpl-space.s3.amazonaws.com/JPL_Space/{img_url_rel}'\n",
    "img_url"
   ]
  },
  {
   "cell_type": "markdown",
   "metadata": {},
   "source": [
    "### Mars Facts"
   ]
  },
  {
   "cell_type": "code",
   "execution_count": 13,
   "metadata": {},
   "outputs": [
    {
     "data": {
      "text/html": [
       "<div>\n",
       "<style scoped>\n",
       "    .dataframe tbody tr th:only-of-type {\n",
       "        vertical-align: middle;\n",
       "    }\n",
       "\n",
       "    .dataframe tbody tr th {\n",
       "        vertical-align: top;\n",
       "    }\n",
       "\n",
       "    .dataframe thead th {\n",
       "        text-align: right;\n",
       "    }\n",
       "</style>\n",
       "<table border=\"1\" class=\"dataframe\">\n",
       "  <thead>\n",
       "    <tr style=\"text-align: right;\">\n",
       "      <th></th>\n",
       "      <th>0</th>\n",
       "      <th>1</th>\n",
       "    </tr>\n",
       "  </thead>\n",
       "  <tbody>\n",
       "    <tr>\n",
       "      <th>0</th>\n",
       "      <td>Equatorial Diameter:</td>\n",
       "      <td>6,792 km</td>\n",
       "    </tr>\n",
       "    <tr>\n",
       "      <th>1</th>\n",
       "      <td>Polar Diameter:</td>\n",
       "      <td>6,752 km</td>\n",
       "    </tr>\n",
       "    <tr>\n",
       "      <th>2</th>\n",
       "      <td>Mass:</td>\n",
       "      <td>6.39 × 10^23 kg (0.11 Earths)</td>\n",
       "    </tr>\n",
       "    <tr>\n",
       "      <th>3</th>\n",
       "      <td>Moons:</td>\n",
       "      <td>2 (Phobos &amp; Deimos)</td>\n",
       "    </tr>\n",
       "    <tr>\n",
       "      <th>4</th>\n",
       "      <td>Orbit Distance:</td>\n",
       "      <td>227,943,824 km (1.38 AU)</td>\n",
       "    </tr>\n",
       "  </tbody>\n",
       "</table>\n",
       "</div>"
      ],
      "text/plain": [
       "                      0                              1\n",
       "0  Equatorial Diameter:                       6,792 km\n",
       "1       Polar Diameter:                       6,752 km\n",
       "2                 Mass:  6.39 × 10^23 kg (0.11 Earths)\n",
       "3                Moons:            2 (Phobos & Deimos)\n",
       "4       Orbit Distance:       227,943,824 km (1.38 AU)"
      ]
     },
     "execution_count": 13,
     "metadata": {},
     "output_type": "execute_result"
    }
   ],
   "source": [
    "df = pd.read_html('http://space-facts.com/mars/')[0]\n",
    "df.head()"
   ]
  },
  {
   "cell_type": "code",
   "execution_count": 14,
   "metadata": {},
   "outputs": [
    {
     "data": {
      "text/html": [
       "<div>\n",
       "<style scoped>\n",
       "    .dataframe tbody tr th:only-of-type {\n",
       "        vertical-align: middle;\n",
       "    }\n",
       "\n",
       "    .dataframe tbody tr th {\n",
       "        vertical-align: top;\n",
       "    }\n",
       "\n",
       "    .dataframe thead th {\n",
       "        text-align: right;\n",
       "    }\n",
       "</style>\n",
       "<table border=\"1\" class=\"dataframe\">\n",
       "  <thead>\n",
       "    <tr style=\"text-align: right;\">\n",
       "      <th></th>\n",
       "      <th>Mars</th>\n",
       "    </tr>\n",
       "    <tr>\n",
       "      <th>Description</th>\n",
       "      <th></th>\n",
       "    </tr>\n",
       "  </thead>\n",
       "  <tbody>\n",
       "    <tr>\n",
       "      <th>Equatorial Diameter:</th>\n",
       "      <td>6,792 km</td>\n",
       "    </tr>\n",
       "    <tr>\n",
       "      <th>Polar Diameter:</th>\n",
       "      <td>6,752 km</td>\n",
       "    </tr>\n",
       "    <tr>\n",
       "      <th>Mass:</th>\n",
       "      <td>6.39 × 10^23 kg (0.11 Earths)</td>\n",
       "    </tr>\n",
       "    <tr>\n",
       "      <th>Moons:</th>\n",
       "      <td>2 (Phobos &amp; Deimos)</td>\n",
       "    </tr>\n",
       "    <tr>\n",
       "      <th>Orbit Distance:</th>\n",
       "      <td>227,943,824 km (1.38 AU)</td>\n",
       "    </tr>\n",
       "    <tr>\n",
       "      <th>Orbit Period:</th>\n",
       "      <td>687 days (1.9 years)</td>\n",
       "    </tr>\n",
       "    <tr>\n",
       "      <th>Surface Temperature:</th>\n",
       "      <td>-87 to -5 °C</td>\n",
       "    </tr>\n",
       "    <tr>\n",
       "      <th>First Record:</th>\n",
       "      <td>2nd millennium BC</td>\n",
       "    </tr>\n",
       "    <tr>\n",
       "      <th>Recorded By:</th>\n",
       "      <td>Egyptian astronomers</td>\n",
       "    </tr>\n",
       "  </tbody>\n",
       "</table>\n",
       "</div>"
      ],
      "text/plain": [
       "                                               Mars\n",
       "Description                                        \n",
       "Equatorial Diameter:                       6,792 km\n",
       "Polar Diameter:                            6,752 km\n",
       "Mass:                 6.39 × 10^23 kg (0.11 Earths)\n",
       "Moons:                          2 (Phobos & Deimos)\n",
       "Orbit Distance:            227,943,824 km (1.38 AU)\n",
       "Orbit Period:                  687 days (1.9 years)\n",
       "Surface Temperature:                   -87 to -5 °C\n",
       "First Record:                     2nd millennium BC\n",
       "Recorded By:                   Egyptian astronomers"
      ]
     },
     "execution_count": 14,
     "metadata": {},
     "output_type": "execute_result"
    }
   ],
   "source": [
    "df.columns=['Description', 'Mars']\n",
    "df.set_index('Description', inplace=True)\n",
    "df"
   ]
  },
  {
   "cell_type": "code",
   "execution_count": 15,
   "metadata": {},
   "outputs": [
    {
     "data": {
      "text/plain": [
       "'<table border=\"1\" class=\"dataframe\">\\n  <thead>\\n    <tr style=\"text-align: right;\">\\n      <th></th>\\n      <th>Mars</th>\\n    </tr>\\n    <tr>\\n      <th>Description</th>\\n      <th></th>\\n    </tr>\\n  </thead>\\n  <tbody>\\n    <tr>\\n      <th>Equatorial Diameter:</th>\\n      <td>6,792 km</td>\\n    </tr>\\n    <tr>\\n      <th>Polar Diameter:</th>\\n      <td>6,752 km</td>\\n    </tr>\\n    <tr>\\n      <th>Mass:</th>\\n      <td>6.39 × 10^23 kg (0.11 Earths)</td>\\n    </tr>\\n    <tr>\\n      <th>Moons:</th>\\n      <td>2 (Phobos &amp; Deimos)</td>\\n    </tr>\\n    <tr>\\n      <th>Orbit Distance:</th>\\n      <td>227,943,824 km (1.38 AU)</td>\\n    </tr>\\n    <tr>\\n      <th>Orbit Period:</th>\\n      <td>687 days (1.9 years)</td>\\n    </tr>\\n    <tr>\\n      <th>Surface Temperature:</th>\\n      <td>-87 to -5 °C</td>\\n    </tr>\\n    <tr>\\n      <th>First Record:</th>\\n      <td>2nd millennium BC</td>\\n    </tr>\\n    <tr>\\n      <th>Recorded By:</th>\\n      <td>Egyptian astronomers</td>\\n    </tr>\\n  </tbody>\\n</table>'"
      ]
     },
     "execution_count": 15,
     "metadata": {},
     "output_type": "execute_result"
    }
   ],
   "source": [
    "df.to_html()"
   ]
  },
  {
   "cell_type": "markdown",
   "metadata": {},
   "source": [
    "### Mars Weather"
   ]
  },
  {
   "cell_type": "code",
   "execution_count": 16,
   "metadata": {},
   "outputs": [],
   "source": [
    "# Visit the weather website\n",
    "url = 'https://mars.nasa.gov/insight/weather/'\n",
    "browser.visit(url)"
   ]
  },
  {
   "cell_type": "code",
   "execution_count": 17,
   "metadata": {},
   "outputs": [],
   "source": [
    "# Parse the data\n",
    "html = browser.html\n",
    "weather_soup = soup(html, 'html.parser')"
   ]
  },
  {
   "cell_type": "code",
   "execution_count": 18,
   "metadata": {},
   "outputs": [
    {
     "name": "stdout",
     "output_type": "stream",
     "text": [
      "<table class=\"mb_table\" id=\"weather_observation\">\n",
      " <thead>\n",
      "  <tr>\n",
      "   <th colspan=\"2\" id=\"time_lbl\" scope=\"col\">\n",
      "    Time\n",
      "   </th>\n",
      "   <th colspan=\"3\" id=\"temperature_lbl\" scope=\"col\">\n",
      "    Air Temperature (\n",
      "    <span class=\"lbl_fahrenheit\">\n",
      "     °F\n",
      "    </span>\n",
      "    <span class=\"slash\">\n",
      "     |\n",
      "    </span>\n",
      "    <span class=\"lbl_celsius fadeBlack\">\n",
      "     °C\n",
      "    </span>\n",
      "    )\n",
      "   </th>\n",
      "   <th colspan=\"4\" id=\"windspeed_lbl\" scope=\"col\">\n",
      "    Wind Speed (\n",
      "    <span class=\"lbl_mph\">\n",
      "     mph\n",
      "    </span>\n",
      "    <span class=\"slash\">\n",
      "     |\n",
      "    </span>\n",
      "    <span class=\"lbl_mps fadeBlack\">\n",
      "     m/s\n",
      "    </span>\n",
      "    )\n",
      "   </th>\n",
      "   <th colspan=\"3\" id=\"pressure_lbl\" scope=\"col\">\n",
      "    Pressure (Pa)\n",
      "   </th>\n",
      "  </tr>\n",
      " </thead>\n",
      " <tbody>\n",
      "  <tr id=\"weather_top\">\n",
      "   <th class=\"sol\" scope=\"row\">\n",
      "    Date\n",
      "   </th>\n",
      "   <th class=\"sol\" scope=\"row\">\n",
      "    Sol\n",
      "   </th>\n",
      "   <td class=\"temperature max\">\n",
      "    Max.\n",
      "   </td>\n",
      "   <td class=\"temperature avg\">\n",
      "    Avg.\n",
      "   </td>\n",
      "   <td class=\"temperature min\">\n",
      "    Min.\n",
      "   </td>\n",
      "   <td class=\"windspeed max\">\n",
      "    Max.\n",
      "   </td>\n",
      "   <td class=\"windspeed avg\">\n",
      "    Avg.\n",
      "   </td>\n",
      "   <td class=\"windspeed min\">\n",
      "    Min.\n",
      "   </td>\n",
      "   <td class=\"windspeed direction\">\n",
      "    Direction\n",
      "    <br/>\n",
      "    <span style=\"font-size:x-small\">\n",
      "     (most common)\n",
      "    </span>\n",
      "   </td>\n",
      "   <td class=\"pressure max\">\n",
      "    Max.\n",
      "   </td>\n",
      "   <td class=\"pressure avg\">\n",
      "    Avg.\n",
      "   </td>\n",
      "   <td class=\"pressure min\">\n",
      "    Min.\n",
      "   </td>\n",
      "  </tr>\n",
      "  <tr>\n",
      "   <th class=\"sol\" scope=\"row\">\n",
      "    Feb. 12, 2021\n",
      "   </th>\n",
      "   <th class=\"sol\" scope=\"row\">\n",
      "    788\n",
      "   </th>\n",
      "   <td class=\"temperature max\">\n",
      "    <span class=\"fahrenheit\">\n",
      "     <nobr>\n",
      "      <span class=\"nodata\">\n",
      "       N/A\n",
      "      </span>\n",
      "     </nobr>\n",
      "    </span>\n",
      "    <span class=\"celsius\" style=\"display: none;\">\n",
      "     <nobr>\n",
      "      <span class=\"nodata\">\n",
      "       N/A\n",
      "      </span>\n",
      "     </nobr>\n",
      "    </span>\n",
      "   </td>\n",
      "   <td class=\"temperature avg\">\n",
      "    <span class=\"fahrenheit\">\n",
      "     <nobr>\n",
      "      <span class=\"nodata\">\n",
      "       N/A\n",
      "      </span>\n",
      "     </nobr>\n",
      "    </span>\n",
      "    <span class=\"celsius\" style=\"display: none;\">\n",
      "     <nobr>\n",
      "      <span class=\"nodata\">\n",
      "       N/A\n",
      "      </span>\n",
      "     </nobr>\n",
      "    </span>\n",
      "   </td>\n",
      "   <td class=\"temperature min\">\n",
      "    <span class=\"fahrenheit\">\n",
      "     <nobr>\n",
      "      <span class=\"nodata\">\n",
      "       N/A\n",
      "      </span>\n",
      "     </nobr>\n",
      "    </span>\n",
      "    <span class=\"celsius\" style=\"display: none;\">\n",
      "     <nobr>\n",
      "      <span class=\"nodata\">\n",
      "       N/A\n",
      "      </span>\n",
      "     </nobr>\n",
      "    </span>\n",
      "   </td>\n",
      "   <td class=\"windspeed max\">\n",
      "    <span class=\"mph\">\n",
      "     <span class=\"nodata\">\n",
      "      N/A\n",
      "     </span>\n",
      "    </span>\n",
      "    <span class=\"mps\" style=\"display:none\">\n",
      "     <span class=\"nodata\">\n",
      "      N/A\n",
      "     </span>\n",
      "    </span>\n",
      "   </td>\n",
      "   <td class=\"windspeed avg\">\n",
      "    <span class=\"mph\">\n",
      "     <span class=\"nodata\">\n",
      "      N/A\n",
      "     </span>\n",
      "    </span>\n",
      "    <span class=\"mps\" style=\"display:none\">\n",
      "     <span class=\"nodata\">\n",
      "      N/A\n",
      "     </span>\n",
      "    </span>\n",
      "   </td>\n",
      "   <td class=\"windspeed min\">\n",
      "    <span class=\"mph\">\n",
      "     <span class=\"nodata\">\n",
      "      N/A\n",
      "     </span>\n",
      "    </span>\n",
      "    <span class=\"mps\" style=\"display:none\">\n",
      "     <span class=\"nodata\">\n",
      "      N/A\n",
      "     </span>\n",
      "    </span>\n",
      "   </td>\n",
      "   <td class=\"windspeed point\">\n",
      "    <span class=\"nodata\">\n",
      "     N/A\n",
      "    </span>\n",
      "   </td>\n",
      "   <td class=\"pressure max\">\n",
      "    741.2\n",
      "   </td>\n",
      "   <td class=\"pressure avg\">\n",
      "    721.9\n",
      "   </td>\n",
      "   <td class=\"pressure min\">\n",
      "    700\n",
      "   </td>\n",
      "  </tr>\n",
      "  <tr>\n",
      "   <th class=\"sol\" scope=\"row\">\n",
      "    Feb. 11, 2021\n",
      "   </th>\n",
      "   <th class=\"sol\" scope=\"row\">\n",
      "    787\n",
      "   </th>\n",
      "   <td class=\"temperature max\">\n",
      "    <span class=\"fahrenheit\">\n",
      "     <nobr>\n",
      "      <span class=\"nodata\">\n",
      "       N/A\n",
      "      </span>\n",
      "     </nobr>\n",
      "    </span>\n",
      "    <span class=\"celsius\" style=\"display: none;\">\n",
      "     <nobr>\n",
      "      <span class=\"nodata\">\n",
      "       N/A\n",
      "      </span>\n",
      "     </nobr>\n",
      "    </span>\n",
      "   </td>\n",
      "   <td class=\"temperature avg\">\n",
      "    <span class=\"fahrenheit\">\n",
      "     <nobr>\n",
      "      <span class=\"nodata\">\n",
      "       N/A\n",
      "      </span>\n",
      "     </nobr>\n",
      "    </span>\n",
      "    <span class=\"celsius\" style=\"display: none;\">\n",
      "     <nobr>\n",
      "      <span class=\"nodata\">\n",
      "       N/A\n",
      "      </span>\n",
      "     </nobr>\n",
      "    </span>\n",
      "   </td>\n",
      "   <td class=\"temperature min\">\n",
      "    <span class=\"fahrenheit\">\n",
      "     <nobr>\n",
      "      <span class=\"nodata\">\n",
      "       N/A\n",
      "      </span>\n",
      "     </nobr>\n",
      "    </span>\n",
      "    <span class=\"celsius\" style=\"display: none;\">\n",
      "     <nobr>\n",
      "      <span class=\"nodata\">\n",
      "       N/A\n",
      "      </span>\n",
      "     </nobr>\n",
      "    </span>\n",
      "   </td>\n",
      "   <td class=\"windspeed max\">\n",
      "    <span class=\"mph\">\n",
      "     <span class=\"nodata\">\n",
      "      N/A\n",
      "     </span>\n",
      "    </span>\n",
      "    <span class=\"mps\" style=\"display:none\">\n",
      "     <span class=\"nodata\">\n",
      "      N/A\n",
      "     </span>\n",
      "    </span>\n",
      "   </td>\n",
      "   <td class=\"windspeed avg\">\n",
      "    <span class=\"mph\">\n",
      "     <span class=\"nodata\">\n",
      "      N/A\n",
      "     </span>\n",
      "    </span>\n",
      "    <span class=\"mps\" style=\"display:none\">\n",
      "     <span class=\"nodata\">\n",
      "      N/A\n",
      "     </span>\n",
      "    </span>\n",
      "   </td>\n",
      "   <td class=\"windspeed min\">\n",
      "    <span class=\"mph\">\n",
      "     <span class=\"nodata\">\n",
      "      N/A\n",
      "     </span>\n",
      "    </span>\n",
      "    <span class=\"mps\" style=\"display:none\">\n",
      "     <span class=\"nodata\">\n",
      "      N/A\n",
      "     </span>\n",
      "    </span>\n",
      "   </td>\n",
      "   <td class=\"windspeed point\">\n",
      "    <span class=\"nodata\">\n",
      "     N/A\n",
      "    </span>\n",
      "   </td>\n",
      "   <td class=\"pressure max\">\n",
      "    741.3\n",
      "   </td>\n",
      "   <td class=\"pressure avg\">\n",
      "    722.2\n",
      "   </td>\n",
      "   <td class=\"pressure min\">\n",
      "    699.1\n",
      "   </td>\n",
      "  </tr>\n",
      " </tbody>\n",
      "</table>\n"
     ]
    }
   ],
   "source": [
    "# Scrape the Daily Weather Report table\n",
    "weather_table = weather_soup.find('table', class_='mb_table')\n",
    "print(weather_table.prettify())"
   ]
  },
  {
   "cell_type": "markdown",
   "metadata": {},
   "source": [
    "# D1: Scrape High-Resolution Mars’ Hemisphere Images and Titles"
   ]
  },
  {
   "cell_type": "markdown",
   "metadata": {},
   "source": [
    "### Hemispheres"
   ]
  },
  {
   "cell_type": "code",
   "execution_count": 19,
   "metadata": {},
   "outputs": [],
   "source": [
    "# 1. Use browser to visit the URL \n",
    "url = 'https://astrogeology.usgs.gov/search/results?q=hemisphere+enhanced&k1=target&v1=Mars'\n",
    "browser.visit(url)"
   ]
  },
  {
   "cell_type": "code",
   "execution_count": 20,
   "metadata": {},
   "outputs": [],
   "source": [
    "# 2. Create a list to hold the images and titles.\n",
    "hemisphere_image_urls = []"
   ]
  },
  {
   "cell_type": "code",
   "execution_count": 21,
   "metadata": {},
   "outputs": [],
   "source": [
    "# Parse the resulting html with soup\n",
    "html = browser.html\n",
    "hemisph_soup = soup(html, 'html.parser')"
   ]
  },
  {
   "cell_type": "code",
   "execution_count": 22,
   "metadata": {},
   "outputs": [],
   "source": [
    "# 3. Write code to retrieve the image urls and titles for each hemisphere.\n",
    "hemisph_div_item = hemisph_soup.find_all('div', class_='item')"
   ]
  },
  {
   "cell_type": "code",
   "execution_count": 23,
   "metadata": {},
   "outputs": [
    {
     "data": {
      "text/plain": [
       "[<div class=\"item\"><a class=\"itemLink product-item\" href=\"/search/map/Mars/Viking/cerberus_enhanced\"><img alt=\"Cerberus Hemisphere Enhanced thumbnail\" class=\"thumb\" src=\"/cache/images/39d3266553462198bd2fbc4d18fbed17_cerberus_enhanced.tif_thumb.png\"/></a><div class=\"description\"><a class=\"itemLink product-item\" href=\"/search/map/Mars/Viking/cerberus_enhanced\"><h3>Cerberus Hemisphere Enhanced</h3></a><span class=\"subtitle\" style=\"float:left\">image/tiff 21 MB</span><span class=\"pubDate\" style=\"float:right\"></span><br/><p>Mosaic of the Cerberus hemisphere of Mars projected into point perspective, a view similar to that which one would see from a spacecraft. This mosaic is composed of 104 Viking Orbiter images acquired…</p></div> <!-- end description --></div>,\n",
       " <div class=\"item\"><a class=\"itemLink product-item\" href=\"/search/map/Mars/Viking/schiaparelli_enhanced\"><img alt=\"Schiaparelli Hemisphere Enhanced thumbnail\" class=\"thumb\" src=\"/cache/images/08eac6e22c07fb1fe72223a79252de20_schiaparelli_enhanced.tif_thumb.png\"/></a><div class=\"description\"><a class=\"itemLink product-item\" href=\"/search/map/Mars/Viking/schiaparelli_enhanced\"><h3>Schiaparelli Hemisphere Enhanced</h3></a><span class=\"subtitle\" style=\"float:left\">image/tiff 35 MB</span><span class=\"pubDate\" style=\"float:right\"></span><br/><p>Mosaic of the Schiaparelli hemisphere of Mars projected into point perspective, a view similar to that which one would see from a spacecraft. The images were acquired in 1980 during early northern…</p></div> <!-- end description --></div>,\n",
       " <div class=\"item\"><a class=\"itemLink product-item\" href=\"/search/map/Mars/Viking/syrtis_major_enhanced\"><img alt=\"Syrtis Major Hemisphere Enhanced thumbnail\" class=\"thumb\" src=\"/cache/images/55a0a1e2796313fdeafb17c35925e8ac_syrtis_major_enhanced.tif_thumb.png\"/></a><div class=\"description\"><a class=\"itemLink product-item\" href=\"/search/map/Mars/Viking/syrtis_major_enhanced\"><h3>Syrtis Major Hemisphere Enhanced</h3></a><span class=\"subtitle\" style=\"float:left\">image/tiff 25 MB</span><span class=\"pubDate\" style=\"float:right\"></span><br/><p>Mosaic of the Syrtis Major hemisphere of Mars projected into point perspective, a view similar to that which one would see from a spacecraft. This mosaic is composed of about 100 red and violet…</p></div> <!-- end description --></div>,\n",
       " <div class=\"item\"><a class=\"itemLink product-item\" href=\"/search/map/Mars/Viking/valles_marineris_enhanced\"><img alt=\"Valles Marineris Hemisphere Enhanced thumbnail\" class=\"thumb\" src=\"/cache/images/4e59980c1c57f89c680c0e1ccabbeff1_valles_marineris_enhanced.tif_thumb.png\"/></a><div class=\"description\"><a class=\"itemLink product-item\" href=\"/search/map/Mars/Viking/valles_marineris_enhanced\"><h3>Valles Marineris Hemisphere Enhanced</h3></a><span class=\"subtitle\" style=\"float:left\">image/tiff 27 MB</span><span class=\"pubDate\" style=\"float:right\"></span><br/><p>Mosaic of the Valles Marineris hemisphere of Mars projected into point perspective, a view similar to that which one would see from a spacecraft. The distance is 2500 kilometers from the surface of…</p></div> <!-- end description --></div>]"
      ]
     },
     "execution_count": 23,
     "metadata": {},
     "output_type": "execute_result"
    }
   ],
   "source": [
    "hemisph_div_item"
   ]
  },
  {
   "cell_type": "code",
   "execution_count": 24,
   "metadata": {},
   "outputs": [],
   "source": [
    "hemisph_div_item_paths = []\n",
    "\n",
    "for div_item in hemisph_div_item:\n",
    "    hemisph_path = div_item.find('a')['href']\n",
    "    hemisph_div_item_paths.append(hemisph_path)"
   ]
  },
  {
   "cell_type": "code",
   "execution_count": 25,
   "metadata": {},
   "outputs": [
    {
     "data": {
      "text/plain": [
       "['/search/map/Mars/Viking/cerberus_enhanced',\n",
       " '/search/map/Mars/Viking/schiaparelli_enhanced',\n",
       " '/search/map/Mars/Viking/syrtis_major_enhanced',\n",
       " '/search/map/Mars/Viking/valles_marineris_enhanced']"
      ]
     },
     "execution_count": 25,
     "metadata": {},
     "output_type": "execute_result"
    }
   ],
   "source": [
    "hemisph_div_item_paths"
   ]
  },
  {
   "cell_type": "code",
   "execution_count": 26,
   "metadata": {},
   "outputs": [],
   "source": [
    "astropedia_url = 'https://astrogeology.usgs.gov'\n",
    "hemispheres = {}\n",
    "\n",
    "for path in hemisph_div_item_paths:\n",
    "    hemisph_url = astropedia_url + path\n",
    "    #print(f'hemisph_url: {hemisph_url}')\n",
    "    \n",
    "    # Use browser to visit the URL\n",
    "    browser.visit(hemisph_url)\n",
    "    \n",
    "    # Parse the resulting html with soup\n",
    "    html = browser.html\n",
    "    download_soup = soup(html, 'html.parser')\n",
    "    \n",
    "    #Find the title inside an h2 tag with a class of 'title'\n",
    "    title = download_soup.find('h2', class_='title').get_text()\n",
    "    #print(f'title: {title}')\n",
    "    \n",
    "    #Find the image url (href) inside a li tag\n",
    "    img_url = download_soup.find('li').a['href']\n",
    "    #print(f'img_url: {img_url}')\n",
    "    \n",
    "    # Store data in a dictionary\n",
    "    hemispheres = {\n",
    "        'img_url': img_url,\n",
    "        'title': title\n",
    "    }\n",
    "    #Append the dictionary to the list\n",
    "    hemisphere_image_urls.append(hemispheres)    "
   ]
  },
  {
   "cell_type": "code",
   "execution_count": 27,
   "metadata": {},
   "outputs": [
    {
     "data": {
      "text/plain": [
       "[{'img_url': 'https://astropedia.astrogeology.usgs.gov/download/Mars/Viking/cerberus_enhanced.tif/full.jpg',\n",
       "  'title': 'Cerberus Hemisphere Enhanced'},\n",
       " {'img_url': 'https://astropedia.astrogeology.usgs.gov/download/Mars/Viking/schiaparelli_enhanced.tif/full.jpg',\n",
       "  'title': 'Schiaparelli Hemisphere Enhanced'},\n",
       " {'img_url': 'https://astropedia.astrogeology.usgs.gov/download/Mars/Viking/syrtis_major_enhanced.tif/full.jpg',\n",
       "  'title': 'Syrtis Major Hemisphere Enhanced'},\n",
       " {'img_url': 'https://astropedia.astrogeology.usgs.gov/download/Mars/Viking/valles_marineris_enhanced.tif/full.jpg',\n",
       "  'title': 'Valles Marineris Hemisphere Enhanced'}]"
      ]
     },
     "execution_count": 27,
     "metadata": {},
     "output_type": "execute_result"
    }
   ],
   "source": [
    "# 4. Print the list that holds the dictionary of each image url and title.\n",
    "hemisphere_image_urls"
   ]
  },
  {
   "cell_type": "code",
   "execution_count": 28,
   "metadata": {},
   "outputs": [],
   "source": [
    "# 5. Quit the browser\n",
    "browser.quit()"
   ]
  }
 ],
 "metadata": {
  "kernelspec": {
   "display_name": "PythonData",
   "language": "python",
   "name": "pythondata"
  },
  "language_info": {
   "codemirror_mode": {
    "name": "ipython",
    "version": 3
   },
   "file_extension": ".py",
   "mimetype": "text/x-python",
   "name": "python",
   "nbconvert_exporter": "python",
   "pygments_lexer": "ipython3",
   "version": "3.7.9"
  }
 },
 "nbformat": 4,
 "nbformat_minor": 4
}
